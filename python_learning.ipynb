{
 "cells": [
  {
   "cell_type": "code",
   "execution_count": 3,
   "metadata": {},
   "outputs": [
    {
     "ename": "SyntaxError",
     "evalue": "'(' was never closed (2717825271.py, line 6)",
     "output_type": "error",
     "traceback": [
      "  \u001b[36mCell\u001b[39m\u001b[36m \u001b[39m\u001b[32mIn[3]\u001b[39m\u001b[32m, line 6\u001b[39m\n\u001b[31m    \u001b[39m\u001b[31mprint(\"Hello, world!\"\u001b[39m\n         ^\n\u001b[31mSyntaxError\u001b[39m\u001b[31m:\u001b[39m '(' was never closed\n"
     ]
    }
   ],
   "source": [
    "## Python Learning\n",
    "\n",
    "## Errors and Exceptions\n",
    "## 1. syntax errors and parsing errors\n",
    "## missing paranthesis\n",
    "print(\"Hello, world!\"\n",
    "\n",
    "## incorrect indentation\n",
    "if True:\n",
    "print(\"This indented incorrectly\")\n"
   ]
  },
  {
   "cell_type": "code",
   "execution_count": 6,
   "metadata": {},
   "outputs": [
    {
     "ename": "FileNotFoundError",
     "evalue": "[Errno 2] No such file or directory: 'non_existent_file.txt'",
     "output_type": "error",
     "traceback": [
      "\u001b[31m---------------------------------------------------------------------------\u001b[39m",
      "\u001b[31mFileNotFoundError\u001b[39m                         Traceback (most recent call last)",
      "\u001b[36mCell\u001b[39m\u001b[36m \u001b[39m\u001b[32mIn[6]\u001b[39m\u001b[32m, line 12\u001b[39m\n\u001b[32m      8\u001b[39m value = my_dict[\u001b[33m\"\u001b[39m\u001b[33ma\u001b[39m\u001b[33m\"\u001b[39m]  \u001b[38;5;66;03m## here b is not there in the disctionary\u001b[39;00m\n\u001b[32m     11\u001b[39m \u001b[38;5;66;03m## trying to open with file that doesnt not exsit\u001b[39;00m\n\u001b[32m---> \u001b[39m\u001b[32m12\u001b[39m \u001b[38;5;28;01mwith\u001b[39;00m \u001b[38;5;28;43mopen\u001b[39;49m\u001b[43m \u001b[49m\u001b[43m(\u001b[49m\u001b[33;43m\"\u001b[39;49m\u001b[33;43mnon_existent_file.txt\u001b[39;49m\u001b[33;43m\"\u001b[39;49m\u001b[43m,\u001b[49m\u001b[33;43m\"\u001b[39;49m\u001b[33;43mr\u001b[39;49m\u001b[33;43m\"\u001b[39;49m\u001b[43m)\u001b[49m \u001b[38;5;28;01mas\u001b[39;00m f:\n\u001b[32m     13\u001b[39m     Content = f.read()\n",
      "\u001b[36mFile \u001b[39m\u001b[32mc:\\Users\\subramani.v\\AppData\\Local\\Programs\\Python\\Python313\\Lib\\site-packages\\IPython\\core\\interactiveshell.py:325\u001b[39m, in \u001b[36m_modified_open\u001b[39m\u001b[34m(file, *args, **kwargs)\u001b[39m\n\u001b[32m    318\u001b[39m \u001b[38;5;28;01mif\u001b[39;00m file \u001b[38;5;129;01min\u001b[39;00m {\u001b[32m0\u001b[39m, \u001b[32m1\u001b[39m, \u001b[32m2\u001b[39m}:\n\u001b[32m    319\u001b[39m     \u001b[38;5;28;01mraise\u001b[39;00m \u001b[38;5;167;01mValueError\u001b[39;00m(\n\u001b[32m    320\u001b[39m         \u001b[33mf\u001b[39m\u001b[33m\"\u001b[39m\u001b[33mIPython won\u001b[39m\u001b[33m'\u001b[39m\u001b[33mt let you open fd=\u001b[39m\u001b[38;5;132;01m{\u001b[39;00mfile\u001b[38;5;132;01m}\u001b[39;00m\u001b[33m by default \u001b[39m\u001b[33m\"\u001b[39m\n\u001b[32m    321\u001b[39m         \u001b[33m\"\u001b[39m\u001b[33mas it is likely to crash IPython. If you know what you are doing, \u001b[39m\u001b[33m\"\u001b[39m\n\u001b[32m    322\u001b[39m         \u001b[33m\"\u001b[39m\u001b[33myou can use builtins\u001b[39m\u001b[33m'\u001b[39m\u001b[33m open.\u001b[39m\u001b[33m\"\u001b[39m\n\u001b[32m    323\u001b[39m     )\n\u001b[32m--> \u001b[39m\u001b[32m325\u001b[39m \u001b[38;5;28;01mreturn\u001b[39;00m \u001b[43mio_open\u001b[49m\u001b[43m(\u001b[49m\u001b[43mfile\u001b[49m\u001b[43m,\u001b[49m\u001b[43m \u001b[49m\u001b[43m*\u001b[49m\u001b[43margs\u001b[49m\u001b[43m,\u001b[49m\u001b[43m \u001b[49m\u001b[43m*\u001b[49m\u001b[43m*\u001b[49m\u001b[43mkwargs\u001b[49m\u001b[43m)\u001b[49m\n",
      "\u001b[31mFileNotFoundError\u001b[39m: [Errno 2] No such file or directory: 'non_existent_file.txt'"
     ]
    }
   ],
   "source": [
    "## Exceptions (Runtime errors)\n",
    "# Division by zero \n",
    "result = 10/10\n",
    "\n",
    "\n",
    "## trying to access non- exsistent key in a dictionary \n",
    "my_dict = {\"a\":1}\n",
    "value = my_dict[\"a\"]  ## here b is not there in the disctionary\n",
    "\n",
    "\n",
    "## trying to open with file that doesnt not exsit\n",
    "with open (\"non_existent_file.txt\",\"r\") as f:  ## this file is not there this might be the situation\n",
    "    Content = f.read()\n",
    "\n",
    "\n"
   ]
  },
  {
   "cell_type": "code",
   "execution_count": 13,
   "metadata": {},
   "outputs": [
    {
     "name": "stdout",
     "output_type": "stream",
     "text": [
      "0.8333333333333334\n"
     ]
    },
    {
     "ename": "ZeroDivisionError",
     "evalue": "division by zero",
     "output_type": "error",
     "traceback": [
      "\u001b[31m---------------------------------------------------------------------------\u001b[39m",
      "\u001b[31mZeroDivisionError\u001b[39m                         Traceback (most recent call last)",
      "\u001b[36mCell\u001b[39m\u001b[36m \u001b[39m\u001b[32mIn[13]\u001b[39m\u001b[32m, line 22\u001b[39m\n\u001b[32m     20\u001b[39m numnerator = \u001b[32m10\u001b[39m\n\u001b[32m     21\u001b[39m denominator = \u001b[32m0\u001b[39m\n\u001b[32m---> \u001b[39m\u001b[32m22\u001b[39m result = \u001b[43mcalculate_something\u001b[49m\u001b[43m(\u001b[49m\u001b[43mnumnerator\u001b[49m\u001b[43m,\u001b[49m\u001b[43mdenominator\u001b[49m\u001b[43m)\u001b[49m\n\u001b[32m     23\u001b[39m \u001b[38;5;28mprint\u001b[39m(result)\n",
      "\u001b[36mCell\u001b[39m\u001b[36m \u001b[39m\u001b[32mIn[13]\u001b[39m\u001b[32m, line 15\u001b[39m, in \u001b[36mcalculate_something\u001b[39m\u001b[34m(x, y)\u001b[39m\n\u001b[32m     13\u001b[39m \u001b[38;5;28;01mdef\u001b[39;00m\u001b[38;5;250m \u001b[39m\u001b[34mcalculate_something\u001b[39m(x,y):\n\u001b[32m     14\u001b[39m     \u001b[38;5;28;01mtry\u001b[39;00m:\n\u001b[32m---> \u001b[39m\u001b[32m15\u001b[39m         res = \u001b[43mdivide\u001b[49m\u001b[43m(\u001b[49m\u001b[43mx\u001b[49m\u001b[43m,\u001b[49m\u001b[43my\u001b[49m\u001b[43m)\u001b[49m\n\u001b[32m     16\u001b[39m     \u001b[38;5;28;01mexcept\u001b[39;00m \u001b[38;5;167;01mTypeError\u001b[39;00m:\n\u001b[32m     17\u001b[39m         \u001b[38;5;28mprint\u001b[39m(\u001b[33m\"\u001b[39m\u001b[33mType error encountered\u001b[39m\u001b[33m\"\u001b[39m)\n",
      "\u001b[36mCell\u001b[39m\u001b[36m \u001b[39m\u001b[32mIn[13]\u001b[39m\u001b[32m, line 4\u001b[39m, in \u001b[36mdivide\u001b[39m\u001b[34m(a, b)\u001b[39m\n\u001b[32m      3\u001b[39m \u001b[38;5;28;01mdef\u001b[39;00m\u001b[38;5;250m \u001b[39m\u001b[34mdivide\u001b[39m(a,b):\n\u001b[32m----> \u001b[39m\u001b[32m4\u001b[39m     \u001b[38;5;28;01mreturn\u001b[39;00m \u001b[43ma\u001b[49m\u001b[43m/\u001b[49m\u001b[43mb\u001b[49m\n",
      "\u001b[31mZeroDivisionError\u001b[39m: division by zero"
     ]
    }
   ],
   "source": [
    "## understanding the Errors (the trace brake)\n",
    "\n",
    "def divide(a,b):\n",
    "    return a/b\n",
    "a = 10\n",
    "b = 12\n",
    "\n",
    "res = divide(a,b)\n",
    "print(res)\n",
    "\n",
    "\n",
    "\n",
    "def calculate_something(x,y):\n",
    "    try:\n",
    "        res = divide(x,y)\n",
    "    except TypeError:\n",
    "        print(\"Type error encountered\")\n",
    "    return res\n",
    "\n",
    "numnerator = 10\n",
    "denominator = 0\n",
    "result = calculate_something(numnerator,denominator)\n",
    "print(result)\n"
   ]
  },
  {
   "cell_type": "code",
   "execution_count": 14,
   "metadata": {},
   "outputs": [
    {
     "name": "stdout",
     "output_type": "stream",
     "text": [
      "start the day subramani\n"
     ]
    }
   ],
   "source": [
    "print(\"start the day subramani\")"
   ]
  },
  {
   "cell_type": "markdown",
   "metadata": {},
   "source": [
    "### Exception Handling  :: try, excpet, else, finally.\n",
    "#### The core construct is the try-except block \n",
    "###### Exception handling is the python way of dealing with run time errors gracefully, preventing from your crashing.\n"
   ]
  },
  {
   "cell_type": "code",
   "execution_count": 15,
   "metadata": {},
   "outputs": [],
   "source": [
    "try:\n",
    "    ## code that might raise an exception \n",
    "    ## (the risky code)\n",
    "    pass\n",
    "except ExceptionType:\n",
    "    # the code to excecute if exception error occures in the try block \n",
    "    # 'The error handling code' \n",
    "    pass\n",
    "\n",
    "\n"
   ]
  },
  {
   "cell_type": "code",
   "execution_count": 23,
   "metadata": {},
   "outputs": [
    {
     "name": "stdout",
     "output_type": "stream",
     "text": [
      "Division result: 5.0\n",
      "Function excecution continues\n",
      "Error: Cannot be divide by zero\n",
      "Function excecution continues\n"
     ]
    }
   ],
   "source": [
    "## Basic Example \n",
    "def safe_drive(a,b):\n",
    "    try:\n",
    "        result = a / b\n",
    "        print(f\"Division result: {result}\")\n",
    "    except ZeroDivisionError:\n",
    "        print(\"Error: Cannot be divide by zero\")\n",
    "    print(\"Function excecution continues\")\n",
    "\n",
    "safe_drive(10, 2)\n",
    "safe_drive(10,0)\n"
   ]
  },
  {
   "cell_type": "code",
   "execution_count": 34,
   "metadata": {},
   "outputs": [
    {
     "name": "stdout",
     "output_type": "stream",
     "text": [
      "here your index: 2\n"
     ]
    }
   ],
   "source": [
    "## Except clause variations\n",
    "## Mulltiple except blocks: handles different type of exceptions speacically.\n",
    "\n",
    "try:\n",
    "    value = int(input(\"Enter a number: \"))\n",
    "    result = 10/ value\n",
    "    my_list = [1,2]\n",
    "    print (f\"here your index: {(my_list[value])}\")  ## potential index error\n",
    "except ZeroDivisionError:\n",
    "    print(\"you cannot devided by zero\")\n",
    "except ValueError:\n",
    "    print(\"invalid input, Please enter a integer\")\n",
    "except IndexError:\n",
    "    print(\"you tried to access an invalid list index\")\n",
    "except Exception as e:  ## catch any other exception (genral exception)\n",
    "    print(f\"an unexcpected error occured\")\n"
   ]
  },
  {
   "cell_type": "code",
   "execution_count": 37,
   "metadata": {},
   "outputs": [
    {
     "name": "stdout",
     "output_type": "stream",
     "text": [
      "ERROR : invalid number or division by zero\n"
     ]
    }
   ],
   "source": [
    "## Catching multiple exceptions in one block\n",
    "try:\n",
    "    value = int(input(\"enter a number: \"))\n",
    "    result = 10 / value\n",
    "except (ZeroDivisionError,ValueError):\n",
    "    print(\"ERROR : invalid number or division by zero\")"
   ]
  },
  {
   "cell_type": "code",
   "execution_count": 39,
   "metadata": {},
   "outputs": [
    {
     "name": "stdout",
     "output_type": "stream",
     "text": [
      "Division Successful: Result: 1.0\n",
      "No errors found\n",
      "program contues after try-except-else-block\n"
     ]
    }
   ],
   "source": [
    "## Else block (optional)\n",
    "## it will only work when no exception occures in the try block:\n",
    "\n",
    "try:\n",
    "    num1 = int(input(\"Enter First number: \"))\n",
    "    num2 = int(input(\"Enter Second number: \"))\n",
    "    result = num1 / num2\n",
    "except ValueError:\n",
    "    print(\"Invalid input please enter integers only.\")\n",
    "except ZeroDivisionError:\n",
    "    print(\"cannot divided byzero\")\n",
    "else:\n",
    "    ## this code wroks only when no excpetions occures in the try block\n",
    "    print(f\"Division Successful: Result: {result}\")\n",
    "    print(\"No errors found\")\n",
    "\n",
    "print(\"program contues after try-except-else-block\")"
   ]
  },
  {
   "cell_type": "code",
   "execution_count": 40,
   "metadata": {},
   "outputs": [
    {
     "name": "stdout",
     "output_type": "stream",
     "text": [
      "Error: The file was not found\n",
      "Cleanup Complete\n",
      "End of Program.\n"
     ]
    }
   ],
   "source": [
    "## the finally block \n",
    "## the final block is always excecuted regardless of weather an exceptin is occured in the try block or not, it is commonly used for cleaning up operations and like closing files and releasing resources.\n",
    "file = None  ## initializing the file to none\n",
    "try:\n",
    "    file = open(\"My_Data.txt\", \"r\")\n",
    "    content = file.read()\n",
    "    print(\"File content read succesfully\")\n",
    "\n",
    "except FileNotFoundError:\n",
    "    print(\"Error: The file was not found\")\n",
    "except Exception as e:\n",
    "    print(f\"An unexpected error occured: {e}\")\n",
    "finally:\n",
    "    ## this block will always run \n",
    "    if file:  ## check if the file was successfullly opened\n",
    "        file.close()\n",
    "        print(\"File closed\")\n",
    "    print(\"Cleanup Complete\")\n",
    "print(\"End of Program.\")"
   ]
  },
  {
   "cell_type": "code",
   "execution_count": 41,
   "metadata": {},
   "outputs": [
    {
     "ename": "IndentationError",
     "evalue": "expected an indented block after 'try' statement on line 4 (2189572697.py, line 6)",
     "output_type": "error",
     "traceback": [
      "  \u001b[36mCell\u001b[39m\u001b[36m \u001b[39m\u001b[32mIn[41]\u001b[39m\u001b[32m, line 6\u001b[39m\n\u001b[31m    \u001b[39m\u001b[31mexcept (FileNotFoundError,PermissionError) as e:\u001b[39m\n    ^\n\u001b[31mIndentationError\u001b[39m\u001b[31m:\u001b[39m expected an indented block after 'try' statement on line 4\n"
     ]
    }
   ],
   "source": [
    "## Advanced considerations best practices for data engineering\n",
    "\n",
    "# good\n",
    "try:\n",
    "    # ....\n",
    "except (FileNotFoundError,PermissionError) as e:\n",
    "    logging.error(f\"file access error: {e}\")\n",
    "\n",
    "## Bad(Genrally)\n",
    "try:\n",
    "    #..\n",
    "except: ## here it will catches litrerally everything, including keyboard interept, sysytem exit\n",
    "    print(\"Something went wrong.\")\n",
    "\n",
    "    "
   ]
  },
  {
   "cell_type": "markdown",
   "metadata": {},
   "source": [
    "#### Logging error in data engineering pipelline \n",
    "* in real-world data pipelines we will use logging methods to log the errors , instead of print statements as same erors\n",
    "* logging allows to record message to files and databases or central logging systems, which is crusial for monitoring and debugging production pipelines"
   ]
  },
  {
   "cell_type": "code",
   "execution_count": 42,
   "metadata": {},
   "outputs": [
    {
     "name": "stderr",
     "output_type": "stream",
     "text": [
      "2025-06-20 13:21:56,785 - ERROR - Attempted Division by zero. Error: division by zero\n",
      "2025-06-20 13:21:56,787 - INFO - Program finished\n"
     ]
    }
   ],
   "source": [
    "## Logging the error  ## this is what will say logs store karna padega karke.\n",
    "import logging\n",
    "logging.basicConfig(level=logging.INFO, format='%(asctime)s - %(levelname)s - %(message)s')\n",
    "\n",
    "try:\n",
    "    result = 10/0\n",
    "except ZeroDivisionError as e:\n",
    "    logging.error(f\"Attempted Division by zero. Error: {e}\")\n",
    "\n",
    "logging.info(\"Program finished\")"
   ]
  },
  {
   "cell_type": "code",
   "execution_count": 1,
   "metadata": {},
   "outputs": [
    {
     "name": "stdout",
     "output_type": "stream",
     "text": [
      "Original DataFrame:\n",
      "    id      name          age      city extra_col\n",
      "0  1     Alice            30  New York         x\n",
      "1   2       Bob                london          y\n",
      "2   2       Bob           24    London         z\n",
      "3   3   Charlie  invalid_age                   a\n",
      "4   4    DAVID            29    Berlin         b\n"
     ]
    }
   ],
   "source": [
    "## Functions \n",
    "## data transformation and cleaning\n",
    "\n",
    "import pandas as pd\n",
    "import numpy as np\n",
    "import logging\n",
    "\n",
    "logging.basicConfig(level=logging.INFO, format='%(asctime)s - %(levelname)s - %(message)s')\n",
    "\n",
    "def clean_and_standardize_data(df:pd.DataFrame) ->pd.DataFrame:\n",
    "\n",
    "    \"\"\"\n",
    "    Performs the data cleaning and Standardization of operations in DataFrame.\n",
    "    Args: df(pd.DataFrame) : the input pandas dataframe.\n",
    "    returns: pd.DataFrame: A new data frame cleaned and standarized data.\n",
    "    \"\"\"\n",
    "    if df.empty:\n",
    "        logging.warning(\"Input DataFrame is empty. Returning an empty Dataframe\")\n",
    "        return pd.DataFrame()\n",
    "    \n",
    "    cleaned_df = df.copy() ## Work on the copy dataframe rather than chaning the original df\n",
    "\n",
    "    ## Handling missing values \n",
    "    # 2. for 'age' fill empty values\n",
    "    # 3. lets fill 0 and log \n",
    "    initial_null_age = cleaned_df['age'].isnull().sum()\n",
    "    if initial_null_age > 0:\n",
    "        cleaned_df['age'] = cleaned_df['age'].replace(' ',np.none)\n",
    "\n",
    "\n",
    "\n",
    "\n",
    "## Example usage ---\n",
    "data = {'id': ['1 ', '2', '2', '3', '4'],\n",
    "    'name': ['  Alice ', 'Bob', 'Bob', 'Charlie', 'DAVID '],\n",
    "    'age': ['30', '', '24', 'invalid_age', '29'],\n",
    "    'city': ['New York', 'london ', 'London', '', 'Berlin'],\n",
    "    'extra_col': ['x', 'y', 'z', 'a', 'b'] # An extra column not explicitly handled\n",
    "}\n",
    "df = pd.DataFrame(data)\n",
    "print(\"Original DataFrame:\\n\", df)"
   ]
  },
  {
   "cell_type": "code",
   "execution_count": null,
   "metadata": {},
   "outputs": [],
   "source": []
  },
  {
   "cell_type": "code",
   "execution_count": 4,
   "metadata": {},
   "outputs": [],
   "source": [
    "## Functions basics understanding \n",
    "## defining a function using def key words \n",
    "\n",
    "def function_name(parameters):\n",
    "    \"\"\"\" Docstring \"\"\"\n",
    "    statement(s)  ##  the block of code that performs the functions tasks \n",
    "\n"
   ]
  },
  {
   "cell_type": "code",
   "execution_count": 9,
   "metadata": {},
   "outputs": [
    {
     "name": "stdout",
     "output_type": "stream",
     "text": [
      "15\n"
     ]
    }
   ],
   "source": [
    "### Simple example of function\n",
    "\n",
    "def add_two_numbers(a, b):\n",
    "    \"\"\"This function will adding the two numbers a and b and returning the results\"\"\"\n",
    "    return a+b  ## statement that result the result and perform the functions\n",
    "\n",
    "result = add_two_numbers(10,5)\n",
    "print(result)\n",
    "\n"
   ]
  },
  {
   "cell_type": "code",
   "execution_count": 12,
   "metadata": {},
   "outputs": [
    {
     "name": "stdout",
     "output_type": "stream",
     "text": [
      "hello, subbu ! How are you\n",
      "hello, what are you doing ! mani\n",
      "hello, subramani ! Hey how are you man\n"
     ]
    }
   ],
   "source": [
    "## Functions parameters 1. Positional arguments 2. Key Word Arguments \n",
    "## 1. positional arguments: this is the common way of passing the variables and the order os passing variables is matters.\n",
    "\n",
    "def greet(name,message):\n",
    "    \"\"\"This Function will perform the greeting to the person and prints the results\"\"\"\n",
    "    print(f\"hello, {name} ! {message}\")\n",
    "\n",
    "greet(\"subbu\",\"How are you\")  ## here the function calling if we call this the statements inside the function will perfom and return the results.\n",
    "greet(\"what are you doing\",\"mani\") ## so here the the order of passing variables is important in positional arguments.\n",
    "\n",
    "## 2. key-word arguments \n",
    "## Here like we can pass the arguments by specifing the prameters names , so here it is allowing to pass arguments in any order, irrespective of arguments parameters.\n",
    "\n",
    "greet(message=\"Hey how are you man\",name= \"subramani\") ## see here like order of passing parameters is doesnot matters.\n"
   ]
  },
  {
   "cell_type": "code",
   "execution_count": 14,
   "metadata": {},
   "outputs": [
    {
     "name": "stdout",
     "output_type": "stream",
     "text": [
      "hello, Subbu ! welcome\n",
      "hello, subbu ! how are you\n"
     ]
    }
   ],
   "source": [
    "## Defualt Arguments : here we can provide the defualt values to prameters , if the value is not passed it will take default value\n",
    "def greet(name, message=\"welcome\"):\n",
    "    \"\"\"This function will returns the greeting message\"\"\"\n",
    "    print(f\"hello, {name} ! {message}\")\n",
    "\n",
    "greet(\"Subbu\")  ### So here it is taking the defult value which we assigned to the message variable.\n",
    "greet(\"subbu\",\"how are you\") ## it is there it will take other wise it will pass the defult value we defined to parameter.\n",
    "    "
   ]
  },
  {
   "cell_type": "code",
   "execution_count": 17,
   "metadata": {},
   "outputs": [
    {
     "name": "stdout",
     "output_type": "stream",
     "text": [
      "Hello ! subbu\n",
      "Hello ! mani\n",
      "Hello ! lav\n",
      "Hello ! mani\n",
      "Hello ! Eve\n",
      "Hello ! Frank\n",
      "Hello ! Grace\n",
      "Hello ! Heidi\n"
     ]
    }
   ],
   "source": [
    "## Variable - length Arguments\n",
    "# 1. * -- Arbitary positional Arguments: (* Args)---> using this can pass a variable number of postional argumebnts to a function. the arguments are stored in function.\n",
    "\n",
    "def greet(*names):\n",
    "    \"\"\"This function will greet all the names in the tuple\"\"\"\n",
    "    for name in names:\n",
    "        print(f\"Hello ! {name}\")\n",
    "\n",
    "greet(\"subbu\",\"mani\",\"lav\")  ## for all this names it printing the greet message : so here we can pass number of postional arguments to a function.\n",
    "greet(\"mani\")\n",
    "greet(\"Eve\", \"Frank\", \"Grace\", \"Heidi\")\n"
   ]
  },
  {
   "cell_type": "code",
   "execution_count": 21,
   "metadata": {},
   "outputs": [
    {
     "name": "stdout",
     "output_type": "stream",
     "text": [
      "name!Alice\n",
      "age!30\n",
      "city!New York\n"
     ]
    }
   ],
   "source": [
    "## 2. Arbitrary Keyword Arguments : allows you to pass numbner of keyword arguments to a function. # here the arguments are stored in a Dictnary.\n",
    "\n",
    "def display_info(**info):\n",
    "    \"\"\"This function displays the information passed as a keyword arguments.\"\"\"\n",
    "    for key, value in info.items():\n",
    "        print(f\"{key}!{value}\")\n",
    "\n",
    "display_info(name=\"Alice\", age=30, city=\"New York\")  ## so here we can pass number of key word arguments and it must be stored in dictionary. like key- value pair.\n"
   ]
  },
  {
   "cell_type": "code",
   "execution_count": null,
   "metadata": {},
   "outputs": [
    {
     "name": "stdout",
     "output_type": "stream",
     "text": [
      "inside the function is  10\n"
     ]
    },
    {
     "ename": "NameError",
     "evalue": "name 'x' is not defined",
     "output_type": "error",
     "traceback": [
      "\u001b[31m---------------------------------------------------------------------------\u001b[39m",
      "\u001b[31mNameError\u001b[39m                                 Traceback (most recent call last)",
      "\u001b[36mCell\u001b[39m\u001b[36m \u001b[39m\u001b[32mIn[24]\u001b[39m\u001b[32m, line 12\u001b[39m\n\u001b[32m      8\u001b[39m my_function()\n\u001b[32m     10\u001b[39m \u001b[38;5;66;03m## trying to access the outside of the function.\u001b[39;00m\n\u001b[32m---> \u001b[39m\u001b[32m12\u001b[39m \u001b[38;5;28mprint\u001b[39m(\u001b[33m\"\u001b[39m\u001b[33moutside the function x = \u001b[39m\u001b[33m\"\u001b[39m,\u001b[43mx\u001b[49m)\n",
      "\u001b[31mNameError\u001b[39m: name 'x' is not defined"
     ]
    }
   ],
   "source": [
    "## Local and global variables in python \n",
    "# Local variable: the variable which declared inside the function and it accessible within the functtion. \n",
    "\n",
    "def my_function():\n",
    "    x = 10\n",
    "    print(\"inside the function is \", x)\n",
    "\n",
    "my_function()\n",
    "\n",
    "## trying to access the outside of the function.\n",
    "\n",
    "print(\"outside the function x = \",x) ## in local variable we cannot access the variablwe which is ionside the function.  ### the following error will cause.\n"
   ]
  },
  {
   "cell_type": "code",
   "execution_count": 26,
   "metadata": {},
   "outputs": [
    {
     "name": "stdout",
     "output_type": "stream",
     "text": [
      "inside the function x=  10\n",
      "accessing the variable outside the function x= 10\n"
     ]
    }
   ],
   "source": [
    "## Global Variable: the variable that is declared outside any function and it is accessible for any function within the same module. \n",
    "\n",
    "x = 10\n",
    "\n",
    "def my_function():\n",
    "    print(\"inside the function x= \", x)  # so here we are accessing the variable from outside ## so means we can access this globally at any where.\n",
    "\n",
    "my_function()\n",
    "\n",
    "print(\"accessing the variable outside the function x=\", x)"
   ]
  },
  {
   "cell_type": "code",
   "execution_count": 27,
   "metadata": {},
   "outputs": [
    {
     "name": "stdout",
     "output_type": "stream",
     "text": [
      "\n",
      " ---Reading sample_users.csv file ----\n",
      "successfully read 3 rows from sample_users.csv.\n",
      "{'id': '1', ' name': ' alice', ' age': ' 30', ' city': ' new york'}\n",
      "{'id': '2', ' name': ' Bob', ' age': ' 24', ' city': ' London'}\n",
      "{'id': '3', ' name': ' Charlie ', ' age': ' 35 ', ' city': ' paris '}\n",
      "\n",
      " ---reading non existance file---\n",
      "Error: File not found at non_existent.csv.\n",
      "result for non existance file: []\n"
     ]
    }
   ],
   "source": [
    "## Some of the functions in Data Engineering\n",
    "\n",
    "## 1 . File i/O -- Reading, writing, data from / to files \n",
    "\n",
    "## a) Read a csv files into list of distionaries \n",
    "import csv\n",
    "import os   ## for checking if the file is exists or not\n",
    "\n",
    "def read_csv_to_dicts(filepath: str) -> list[dict]:\n",
    "    \"\"\"\n",
    "    Reads a csv files and returns its content as a list of distionaries to a json file\n",
    "    The first row is assumed to be header.\n",
    "    \n",
    "    Args: \n",
    "        File path (str): The path to the csv file \n",
    "    returns:\n",
    "        list[dict]: A list of Distionaries, where each dictionary represents a row.\n",
    "        returns a empty list if the file is not found or is empty. \n",
    "    \"\"\"\n",
    "    data = []\n",
    "    if not os.path.exists(filepath):\n",
    "        print(f\"Error: File not found at {filepath}.\")\n",
    "        return []\n",
    "    \n",
    "    try:\n",
    "        with open(filepath,mode='r',newline='',encoding='utf-8')  as csvfile:\n",
    "            # csv.dictReader automatically uses the first row as keys \n",
    "            reader = csv.DictReader(csvfile)\n",
    "            for row in reader:\n",
    "                data.append(row)\n",
    "            print(f\"successfully read {len(data)} rows from { filepath}.\")\n",
    "    except Exception as e:\n",
    "        print(f\" Error Occured while reading {filepath}: {e}\")\n",
    "        return []\n",
    "    return data\n",
    "\n",
    "## -- Exacmple USage -- Creating a dummy data set for testing\n",
    "dummy_csv_content = \"\"\"id, name, age, city\n",
    "1, alice, 30, new york\n",
    "2, Bob, 24, London\n",
    "3, Charlie , 35 , paris \n",
    "\"\"\"\n",
    "with open(\"sample_users.csv\",'w',encoding=\"utf-8\") as f:\n",
    "    f.write(dummy_csv_content)\n",
    "\n",
    "print(\"\\n ---Reading sample_users.csv file ----\")\n",
    "users_data = read_csv_to_dicts(\"sample_users.csv\")\n",
    "for user in users_data:\n",
    "    print(user)\n",
    "\n",
    "print(\"\\n ---reading non existance file---\")\n",
    "empty_data = read_csv_to_dicts(\"non_existent.csv\")\n",
    "print(f\"result for non existance file: {empty_data}\")\n",
    "\n",
    "# clean dummy file \n",
    "os.remove(\"sample_users.csv\")"
   ]
  },
  {
   "cell_type": "code",
   "execution_count": 33,
   "metadata": {},
   "outputs": [
    {
     "name": "stdout",
     "output_type": "stream",
     "text": [
      "\n",
      " ---writing products.json----\n",
      "Succefully wrote 3 records to products.json.\n",
      "contents of products json (read back)\n",
      "{'product_id': 'P001', 'name': 'Laptop', 'price': 1200.0, 'category': 'Electronics'}\n",
      "{'product_id': 'P002', 'name': 'Mouse', 'price': 25.5, 'category': 'Electronics'}\n",
      "{'product_id': 'P003', 'name': 'Desk Chair', 'price': 150.0, 'category': 'Furniture'}\n"
     ]
    }
   ],
   "source": [
    "##  Writing a list of dictionaries to a JSOn file\n",
    "import json\n",
    "import os\n",
    "\n",
    "def write_dicts_to_json(data: list[dict],file_path:str,indent: int = 2) -> None:\n",
    "    \"\"\"\n",
    "    writes list of Distionaries to JSOn format\n",
    "\n",
    "    Args: \n",
    "        data (list[dict]: The list of dictionaries to write)\n",
    "        file_path:str : The path to the output json file.\n",
    "        indent: int = 2: Number of sapces to indent json file.\n",
    "                         use None for a compact JSON file (good for large files)    \n",
    "    \"\"\"\n",
    "    try:\n",
    "        with open(file_path,mode='w', encoding='utf-8') as jsonfile:\n",
    "            json.dump(data, jsonfile, indent=indent, ensure_ascii=False)\n",
    "        print(f\"Succefully wrote {len(data)} records to {file_path}.\")\n",
    "    except Exception as e:\n",
    "        print(f\"Error Occured while writing to file path {file_path} : {e}\")\n",
    "\n",
    "\n",
    "## Example -- Usage \n",
    "sample_products = [\n",
    "    {\"product_id\": \"P001\", \"name\": \"Laptop\", \"price\": 1200.00, \"category\": \"Electronics\"},\n",
    "    {\"product_id\": \"P002\", \"name\": \"Mouse\", \"price\": 25.50, \"category\": \"Electronics\"},\n",
    "    {\"product_id\": \"P003\", \"name\": \"Desk Chair\", \"price\": 150.00, \"category\": \"Furniture\"}\n",
    "]\n",
    "\n",
    "print(\"\\n ---writing products.json----\")\n",
    "write_dicts_to_json(sample_products,\"products.json\")\n",
    "\n",
    "## Verifying by reading back\n",
    "with open(\"products.json\",\"r\",encoding=\"utf-8\") as f:\n",
    "    read_products = json.load(f)\n",
    "    print(\"contents of products json (read back)\")\n",
    "    for prod in read_products:\n",
    "        print(prod)\n",
    "\n",
    "## Clean up dummy file\n",
    "os.remove(\"products.json\")"
   ]
  },
  {
   "cell_type": "code",
   "execution_count": 34,
   "metadata": {},
   "outputs": [
    {
     "name": "stdout",
     "output_type": "stream",
     "text": [
      "\n",
      " Filtering orders by status is completed\n",
      "{'order_id': 101, 'customer_id': 1, 'status': 'completed', 'amount': 150.0}\n",
      "{'order_id': 103, 'customer_id': 1, 'status': 'completed', 'amount': 200.0}\n"
     ]
    }
   ],
   "source": [
    "## Basic Data Transformation \n",
    "\n",
    "## a) Filter Based on a condition\n",
    "## here commonly we need to select only certain records from your data set \n",
    "\n",
    "def filter_records(data: list[dict],column_name: str, value) -> list[dict]:\n",
    "    \"\"\"\n",
    "    Filters a list of dictionaries based on specific column's value.\n",
    "    Args:\n",
    "        data(list[dict]): The list of dictionaries to filter\n",
    "        column_name: str : The key (column name to check).\n",
    "        value: The value to match\n",
    "    returns:    \n",
    "            list[dicts]: A new list containing only the records that match the condition.\n",
    "    \"\"\"\n",
    "    filtered_data = []\n",
    "    for record in data:\n",
    "        if column_name in record and record[column_name] == value:\n",
    "            filtered_data.append(record)\n",
    "    return filtered_data\n",
    "\n",
    "# --- Example Usage ---\n",
    "sample_orders = [\n",
    "    {\"order_id\": 101, \"customer_id\": 1, \"status\": \"completed\", \"amount\": 150.00},\n",
    "    {\"order_id\": 102, \"customer_id\": 2, \"status\": \"pending\", \"amount\": 75.50},\n",
    "    {\"order_id\": 103, \"customer_id\": 1, \"status\": \"completed\", \"amount\": 200.00},\n",
    "    {\"order_id\": 104, \"customer_id\": 3, \"status\": \"cancelled\", \"amount\": 50.00}\n",
    "]\n",
    "\n",
    "print(\"\\n Filtering orders by status is completed\")\n",
    "completed_orders = filter_records(sample_orders,\"status\",\"completed\")\n",
    "for order in completed_orders:\n",
    "    print(order)"
   ]
  },
  {
   "cell_type": "code",
   "execution_count": 5,
   "metadata": {},
   "outputs": [
    {
     "name": "stdout",
     "output_type": "stream",
     "text": [
      "\n",
      " Original DataFrame: \n",
      "      item price_str quantity_str\n",
      "0   Apple      1.00           10\n",
      "1  Banana      0.75            5\n",
      "2  Orange   invalid            8\n",
      "3   Grape      2.50          abc\n",
      "Column price_str converted to numeric, Non-convertible values are now NAN.\n",
      "\n",
      "DataFrame after converting 'price_str' :\n",
      "      item  price_str quantity_str\n",
      "0   Apple       1.00           10\n",
      "1  Banana       0.75            5\n",
      "2  Orange        NaN            8\n",
      "3   Grape       2.50          abc\n",
      "Column quantity_str converted to numeric, Non-convertible values are now NAN.\n",
      "\n",
      " DataFrame after converting 'quantity_str' : \n",
      "      item price_str  quantity_str\n",
      "0   Apple      1.00          10.0\n",
      "1  Banana      0.75           5.0\n",
      "2  Orange   invalid           8.0\n",
      "3   Grape      2.50           NaN\n",
      "Warning: Column 'non_existent_col' not found in DataFrame.\n",
      "\n",
      " DataFrame after trying to convert non - existent column: \n",
      "      item price_str  quantity_str\n",
      "0   Apple      1.00          10.0\n",
      "1  Banana      0.75           5.0\n",
      "2  Orange   invalid           8.0\n",
      "3   Grape      2.50           NaN\n"
     ]
    }
   ],
   "source": [
    "### Transformation column data types \n",
    "import pandas as pd\n",
    "\n",
    "def convert_column_to_numeric(df:pd.DataFrame,column_name= str,) -> pd.DataFrame:\n",
    "    \"\"\"\"\n",
    "    Converts specified column in a pandas DataFrame to a numeric type.\n",
    "    Non- convertible values will become NAN.\n",
    "\n",
    "    Args: \n",
    "        df(pd.DataFrame): The input Dataframe\n",
    "        column_name (str): the name of the column to convert.\n",
    "    returns:\n",
    "        pd.DataFrame : A new Dataframe with the column converted.\n",
    "    \"\"\"\n",
    "    if column_name not in df.columns:\n",
    "        print(f\"Warning: Column '{column_name}' not found in DataFrame.\")\n",
    "        return df.copy()  ## it returns copy of original if column  not found.\n",
    "    \n",
    "    # .copy() to ensure we dont modify the original dataframe outside the function.\n",
    "    df_copy = df.copy()\n",
    "    ## erros = 'corece' will turn values that cannot be converted into NAN (not a number)\n",
    "    df_copy[column_name] = pd.to_numeric(df_copy[column_name], errors='coerce')\n",
    "    print(f\"Column {column_name} converted to numeric, Non-convertible values are now NAN.\")\n",
    "    return df_copy\n",
    "\n",
    "## Example usage\n",
    "data_for_df = {\n",
    "    'item': ['Apple', 'Banana', 'Orange', 'Grape'],\n",
    "    'price_str': ['1.00', '0.75', 'invalid', '2.50'],\n",
    "    'quantity_str': ['10', '5', '8', 'abc']\n",
    "}\n",
    "\n",
    "df_prices = pd.DataFrame(data_for_df)\n",
    "print(\"\\n Original DataFrame: \\n\",df_prices)\n",
    "\n",
    "df_numeric_price = convert_column_to_numeric(df_prices,'price_str')\n",
    "print(\"\\nDataFrame after converting 'price_str' :\\n\",df_numeric_price)\n",
    "\n",
    "df_numeric_quantity = convert_column_to_numeric(df_prices,'quantity_str')\n",
    "print(\"\\n DataFrame after converting 'quantity_str' : \\n\",df_numeric_quantity)\n",
    "\n",
    "df_missing_col_test = convert_column_to_numeric(df_numeric_quantity,'non_existent_col')\n",
    "print(\"\\n DataFrame after trying to convert non - existent column: \\n\", df_missing_col_test)"
   ]
  },
  {
   "cell_type": "code",
   "execution_count": 7,
   "metadata": {},
   "outputs": [
    {
     "name": "stdout",
     "output_type": "stream",
     "text": [
      "\n",
      "---Aggregating Sales by category---\n",
      "\n",
      "Electronics:1200.00\n"
     ]
    }
   ],
   "source": [
    "## Aggreagrting Data Basic Grouping\n",
    "import pandas as pd\n",
    "\n",
    "def aggregate_by_category(data:list[dict],category_col: str, value_col: str) -> dict:\n",
    "    \"\"\"\n",
    "    Aggrgates numerical values by specifying category columns.\n",
    "\n",
    "    Args:\n",
    "        data(list[dict]): the input is list of dictionaries\n",
    "        category_col: (str) : the column to group by\n",
    "        value_col:(str) : The numerical column to sum\n",
    "    Returns:\n",
    "        dict: A Dictionary where keys are categorirs and values are the sums.\n",
    "        non numeric values in value_column are skipped.\n",
    "    \"\"\"\n",
    "    aggregate_data = {}\n",
    "    for record in data:\n",
    "        category = record.get(category_col)\n",
    "        value = record.get(value_col)\n",
    "\n",
    "        if category is None or value is None:\n",
    "            continue  ## we are skipping the record missing category or value\n",
    "\n",
    "        try:\n",
    "            ## Ensuring value is numneric before adding\n",
    "            numeric_value = float(value)\n",
    "            aggregate_data[category] = aggregate_data.get(category,0.0) + numeric_value\n",
    "        except (ValueError,TypeError):\n",
    "            # Handle cases where value is not numeric\n",
    "            print(f\"Warning: Skipping Non-numeric value {value}, for category {category}.\")\n",
    "            continue\n",
    "        return aggregate_data\n",
    "    \n",
    "# --- Example Usage ---\n",
    "sales_records = [\n",
    "    {\"item\": \"Laptop\", \"category\": \"Electronics\", \"price\": 1200},\n",
    "    {\"item\": \"Keyboard\", \"category\": \"Electronics\", \"price\": 75},\n",
    "    {\"item\": \"Chair\", \"category\": \"Furniture\", \"price\": 150},\n",
    "    {\"item\": \"Table\", \"category\": \"Furniture\", \"price\": 200},\n",
    "    {\"item\": \"Monitor\", \"category\": \"Electronics\", \"price\": 300},\n",
    "    {\"item\": \"Lamp\", \"category\": \"Furniture\", \"price\": \"invalid_price\"} # Non-numeric\n",
    "]\n",
    "\n",
    "print(\"\\n---Aggregating Sales by category---\\n\")\n",
    "category_sums = aggregate_by_category(sales_records,'category','price')\n",
    "\n",
    "for cat, Total in category_sums.items():\n",
    "    print(f\"{cat}:{Total:.2f}\")\n"
   ]
  },
  {
   "cell_type": "code",
   "execution_count": 8,
   "metadata": {},
   "outputs": [
    {
     "name": "stdout",
     "output_type": "stream",
     "text": [
      "\n",
      "--- Validating Users ---\n",
      "user {'user_id': 'U001', 'username': 'alice_smith', 'email': 'alice@example.com'}: valid = False,message = Missing Required Field: userid.\n"
     ]
    }
   ],
   "source": [
    "## Simple data vaildation \n",
    "## Ensuring data meets basic quality checks \n",
    "\n",
    "# a) Validate required fileds \n",
    "\n",
    "def validate_required_fields(record: dict, required_fileds: list[str]) -> tuple[bool,str]:\n",
    "    \"\"\"\n",
    "    Validates if a dictionary (record) contains all specified required fileds \n",
    "    and that their values are not empty strings.\n",
    "\n",
    "    Args:\n",
    "        record(dict): The dictinary (data row) to validate\n",
    "        required_fields (list[str]): A list field names that must be present and not empty\n",
    "\n",
    "    Returns: \n",
    "        tuple[bool,str]: (True,\"\") if valid, (False, \"error message\") otherwise.\n",
    "\n",
    "    \"\"\"\n",
    "    for field in required_fileds:\n",
    "        if field not in record:\n",
    "            return False, f\"Missing Required Field: {field}.\"\n",
    "        if isinstance(record[field],str) and not record[field].strip(): # Check for empty string after stripping whitespace \n",
    "            return False, f\"Required Field {field} is Empty\"\n",
    "        if record[field] is None:   ## Check for expliticily.\n",
    "            return False, f\"Required Field'{field} is None\"\n",
    "    return True, \" \"\n",
    "\n",
    "## --- Example ---\n",
    "user_schema = [\"userid\",\"username\",\"email\"]\n",
    "\n",
    "valid_user = {\"user_id\": \"U001\", \"username\": \"alice_smith\", \"email\": \"alice@example.com\"}\n",
    "invalid_user_missing_email = {\"user_id\": \"U002\", \"username\": \"bob_jones\"}\n",
    "invalid_user_empty_username = {\"user_id\": \"U003\", \"username\": \"   \", \"email\": \"charlie@example.com\"}\n",
    "invalid_user_none_id = {\"user_id\": None, \"username\": \"diana\", \"email\": \"diana@example.com\"}\n",
    "\n",
    "print(\"\\n--- Validating Users ---\")\n",
    "is_valid, msg = validate_required_fields(valid_user,user_schema)\n",
    "print(f\"user {valid_user}: valid = {is_valid},message = {msg}\")\n",
    "\n"
   ]
  },
  {
   "cell_type": "code",
   "execution_count": 10,
   "metadata": {},
   "outputs": [
    {
     "name": "stdout",
     "output_type": "stream",
     "text": [
      "Original: hello, Data Engineer\n",
      "Upper Case String : HELLO, DATA ENGINEER\n"
     ]
    }
   ],
   "source": [
    "## MEthod: Method is a function that is called an object \n",
    "\n",
    "## string Methods : strings are objects, and they have methods to manifulate text\n",
    "\n",
    "## string \n",
    "my_string = \"hello, Data Engineer\"\n",
    "\n",
    "# 1. .upper() method: returns a new string with all characters in uppercase \n",
    "upper_string = my_string.upper()\n",
    "print(f\"Original: {my_string}\")\n",
    "print(f\"Upper Case String : {upper_string}\")"
   ]
  },
  {
   "cell_type": "code",
   "execution_count": 12,
   "metadata": {},
   "outputs": [
    {
     "name": "stdout",
     "output_type": "stream",
     "text": [
      "Original: hello, Data Engineer\n",
      "Lower Case String : hello, data engineer\n"
     ]
    }
   ],
   "source": [
    "## .Lower() Method\n",
    "lower_string = my_string.lower()\n",
    "print(f\"Original: {my_string}\")\n",
    "print(f\"Lower Case String : {lower_string}\")\n"
   ]
  },
  {
   "cell_type": "code",
   "execution_count": 19,
   "metadata": {},
   "outputs": [
    {
     "name": "stdout",
     "output_type": "stream",
     "text": [
      "starts with 'Hello'? True\n"
     ]
    }
   ],
   "source": [
    "## .starts() with method. ## checking if the string is starting with the specific prefix or not\n",
    "my_string = \" Hello ! How are you ? \"\n",
    "starts_with_hello = my_string.startswith(\" Hello\")\n",
    "print(f\"starts with 'Hello'? {starts_with_hello}\")"
   ]
  },
  {
   "cell_type": "code",
   "execution_count": null,
   "metadata": {},
   "outputs": [],
   "source": []
  }
 ],
 "metadata": {
  "kernelspec": {
   "display_name": "Python 3",
   "language": "python",
   "name": "python3"
  },
  "language_info": {
   "codemirror_mode": {
    "name": "ipython",
    "version": 3
   },
   "file_extension": ".py",
   "mimetype": "text/x-python",
   "name": "python",
   "nbconvert_exporter": "python",
   "pygments_lexer": "ipython3",
   "version": "3.13.2"
  }
 },
 "nbformat": 4,
 "nbformat_minor": 2
}
